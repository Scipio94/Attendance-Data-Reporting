{
 "cells": [
  {
   "cell_type": "markdown",
   "id": "6e5040e6",
   "metadata": {},
   "source": [
    "## Attendance Data Cleaning\n",
    "\n",
    "Using python to clean and analyze quarterly employee attendance data exported from ADP for the Months of October 2023 to December 2023."
   ]
  },
  {
   "cell_type": "code",
   "execution_count": 51,
   "id": "0f4a106d",
   "metadata": {},
   "outputs": [],
   "source": [
    "#Importing Packages\n",
    "import pandas as pd\n",
    "import datetime as dt\n",
    "import string as str\n",
    "import matplotlib.pyplot as plt"
   ]
  },
  {
   "cell_type": "code",
   "execution_count": 52,
   "id": "99dd18c7",
   "metadata": {
    "scrolled": true
   },
   "outputs": [],
   "source": [
    "df = pd.read_csv(r\"/Users/scipio/Downloads/Attendance_Data_Oct_Dec.csv\", parse_dates = ['In_time','Out_time'])\n",
    "campus = pd.read_csv(r\"/Users/scipio/Downloads/Quarterly Finacial Report - Campus.csv\")"
   ]
  },
  {
   "cell_type": "code",
   "execution_count": 53,
   "id": "ec43653c",
   "metadata": {
    "scrolled": true
   },
   "outputs": [
    {
     "name": "stdout",
     "output_type": "stream",
     "text": [
      "<class 'pandas.core.frame.DataFrame'>\n",
      "RangeIndex: 11298 entries, 0 to 11297\n",
      "Data columns (total 9 columns):\n",
      " #   Column             Non-Null Count  Dtype         \n",
      "---  ------             --------------  -----         \n",
      " 0   Last_Name          11298 non-null  object        \n",
      " 1   First_Name         11298 non-null  object        \n",
      " 2   Position_ID        11298 non-null  object        \n",
      " 3   Worked_Department  11298 non-null  int64         \n",
      " 4   State              11298 non-null  object        \n",
      " 5   In_time            11298 non-null  datetime64[ns]\n",
      " 6   Out_time           9616 non-null   datetime64[ns]\n",
      " 7   Hours              11298 non-null  float64       \n",
      " 8   Pay_Code           3776 non-null   object        \n",
      "dtypes: datetime64[ns](2), float64(1), int64(1), object(5)\n",
      "memory usage: 794.5+ KB\n"
     ]
    }
   ],
   "source": [
    "df.info()"
   ]
  },
  {
   "cell_type": "code",
   "execution_count": 54,
   "id": "95178da8",
   "metadata": {},
   "outputs": [
    {
     "data": {
      "text/plain": [
       "(11298, 9)"
      ]
     },
     "execution_count": 54,
     "metadata": {},
     "output_type": "execute_result"
    }
   ],
   "source": [
    "df.shape"
   ]
  },
  {
   "cell_type": "code",
   "execution_count": 55,
   "id": "7c882055",
   "metadata": {},
   "outputs": [
    {
     "data": {
      "text/plain": [
       "min   2023-10-01\n",
       "max   2023-12-29\n",
       "Name: In_time, dtype: datetime64[ns]"
      ]
     },
     "execution_count": 55,
     "metadata": {},
     "output_type": "execute_result"
    }
   ],
   "source": [
    "#Date Range\n",
    "df['In_time'].agg(['min','max'])"
   ]
  },
  {
   "cell_type": "code",
   "execution_count": 56,
   "id": "79c43104",
   "metadata": {},
   "outputs": [],
   "source": [
    "#Filtering df based on REGSAL, REGSAL indicative of pay day\n",
    "df = df[df['Pay_Code']!= 'REGSAL']"
   ]
  },
  {
   "cell_type": "code",
   "execution_count": 57,
   "id": "d2d781ea",
   "metadata": {},
   "outputs": [],
   "source": [
    "#Unexcused Absences\n",
    "def Unexcused(x):\n",
    "    if x == 'ABSENT':\n",
    "        return 1\n",
    "    elif x == 'SICK':\n",
    "        return 1\n",
    "    elif x == 'UNPAID TIME OFF':\n",
    "        return 1\n",
    "    elif x == 'PERSONAL':\n",
    "        return 1\n",
    "    elif x == 'LONGEVITY DAYS':\n",
    "        return 1\n",
    "    else:\n",
    "        return 0\n",
    "    \n",
    "df['Unexcused'] = df['Pay_Code'].apply(lambda x: Unexcused(x))"
   ]
  },
  {
   "cell_type": "code",
   "execution_count": 58,
   "id": "54a12ba3",
   "metadata": {},
   "outputs": [],
   "source": [
    "#Excused Absences\n",
    "def Excused(x):\n",
    "    if x == 'COVID SICK':\n",
    "        return 1\n",
    "    elif x == 'HOLIDAY':\n",
    "        return 1\n",
    "    elif x == 'JURY':\n",
    "        return 1\n",
    "    elif x == 'PROFESSIONAL DEVELOPMENT':\n",
    "        return 1\n",
    "    elif x == 'RELIGIOUS OBSERVATION':\n",
    "        return 1\n",
    "    elif x == 'VACATION':\n",
    "        return 1\n",
    "    else:\n",
    "        return 0\n",
    "    \n",
    "df['Excused'] = df['Pay_Code'].apply(lambda x: Excused(x))"
   ]
  },
  {
   "cell_type": "code",
   "execution_count": 59,
   "id": "105117c6",
   "metadata": {},
   "outputs": [
    {
     "name": "stdout",
     "output_type": "stream",
     "text": [
      "<class 'pandas.core.frame.DataFrame'>\n",
      "RangeIndex: 2091 entries, 0 to 2090\n",
      "Data columns (total 9 columns):\n",
      " #   Column       Non-Null Count  Dtype         \n",
      "---  ------       --------------  -----         \n",
      " 0   Position_ID  2091 non-null   object        \n",
      " 1   First_Name   2091 non-null   object        \n",
      " 2   Last_Name    2091 non-null   object        \n",
      " 3   In_time      2091 non-null   datetime64[ns]\n",
      " 4   Out_time     2091 non-null   datetime64[ns]\n",
      " 5   Hours        2091 non-null   float64       \n",
      " 6   Pay_Code     2091 non-null   object        \n",
      " 7   Unexcused    2091 non-null   int64         \n",
      " 8   Excused      2091 non-null   int64         \n",
      "dtypes: datetime64[ns](2), float64(1), int64(2), object(4)\n",
      "memory usage: 147.1+ KB\n"
     ]
    }
   ],
   "source": [
    "#Aggregating Unexcused and Excused metrics\n",
    "Att_calc = df.groupby(['Position_ID','First_Name', 'Last_Name', 'In_time','Out_time', 'Hours','Pay_Code'])[['Unexcused', 'Excused']].sum().reset_index()\n",
    "Att_calc.info()"
   ]
  },
  {
   "cell_type": "code",
   "execution_count": 60,
   "id": "a904b8e0",
   "metadata": {},
   "outputs": [],
   "source": [
    "#Adding Month Column\n",
    "Att_calc['Month'] = Att_calc['In_time'].dt.strftime('%Y-%m')"
   ]
  },
  {
   "cell_type": "code",
   "execution_count": 61,
   "id": "871df628",
   "metadata": {},
   "outputs": [],
   "source": [
    "#Adding School Days Column\n",
    "def School_Days(x):\n",
    "    if x == '2023-10':\n",
    "        return 21\n",
    "    elif x == '2023-11':\n",
    "        return 16\n",
    "    elif x == '2023-12':\n",
    "        return 16\n",
    "\n",
    "Att_calc['School_Days'] = Att_calc['Month'].apply(lambda x: School_Days(x))"
   ]
  },
  {
   "cell_type": "code",
   "execution_count": 62,
   "id": "98f51578",
   "metadata": {},
   "outputs": [],
   "source": [
    "#Day Type\n",
    "def Day_Type(x):\n",
    "    if x >= 5:\n",
    "        return 1\n",
    "    elif x <= 4:\n",
    "        return 0.50\n",
    "    elif x == 0:\n",
    "        return 0\n",
    "    \n",
    "    \n",
    "Att_calc['Day_Type'] = Att_calc['Hours'].apply(lambda x: Day_Type(x))"
   ]
  },
  {
   "cell_type": "code",
   "execution_count": 63,
   "id": "6c33e7ad",
   "metadata": {},
   "outputs": [],
   "source": [
    "#Calculating Excused and Unexcused Absences based on Day Type\n",
    "Att_calc['Excused_Abs_Calc'] = Att_calc['Excused'].mul(Att_calc['Day_Type'])\n",
    "Att_calc['Unexcused_Abs_Calc'] = Att_calc['Unexcused'].mul(Att_calc['Day_Type'])"
   ]
  },
  {
   "cell_type": "code",
   "execution_count": 64,
   "id": "faf76a46",
   "metadata": {},
   "outputs": [
    {
     "data": {
      "text/html": [
       "<div>\n",
       "<style scoped>\n",
       "    .dataframe tbody tr th:only-of-type {\n",
       "        vertical-align: middle;\n",
       "    }\n",
       "\n",
       "    .dataframe tbody tr th {\n",
       "        vertical-align: top;\n",
       "    }\n",
       "\n",
       "    .dataframe thead th {\n",
       "        text-align: right;\n",
       "    }\n",
       "</style>\n",
       "<table border=\"1\" class=\"dataframe\">\n",
       "  <thead>\n",
       "    <tr style=\"text-align: right;\">\n",
       "      <th></th>\n",
       "      <th>Position_ID</th>\n",
       "      <th>First_Name</th>\n",
       "      <th>Last_Name</th>\n",
       "      <th>In_time</th>\n",
       "      <th>Out_time</th>\n",
       "      <th>Hours</th>\n",
       "      <th>Pay_Code</th>\n",
       "      <th>Unexcused</th>\n",
       "      <th>Excused</th>\n",
       "      <th>Month</th>\n",
       "      <th>School_Days</th>\n",
       "      <th>Day_Type</th>\n",
       "      <th>Excused_Abs_Calc</th>\n",
       "      <th>Unexcused_Abs_Calc</th>\n",
       "    </tr>\n",
       "  </thead>\n",
       "  <tbody>\n",
       "    <tr>\n",
       "      <th>0</th>\n",
       "      <td>33T000055</td>\n",
       "      <td>Johanna</td>\n",
       "      <td>Soto</td>\n",
       "      <td>2023-10-09</td>\n",
       "      <td>2023-10-09</td>\n",
       "      <td>8.0</td>\n",
       "      <td>HOLIDAY</td>\n",
       "      <td>0</td>\n",
       "      <td>1</td>\n",
       "      <td>2023-10</td>\n",
       "      <td>21</td>\n",
       "      <td>1.0</td>\n",
       "      <td>1.0</td>\n",
       "      <td>0.0</td>\n",
       "    </tr>\n",
       "    <tr>\n",
       "      <th>1</th>\n",
       "      <td>33T000055</td>\n",
       "      <td>Johanna</td>\n",
       "      <td>Soto</td>\n",
       "      <td>2023-11-01</td>\n",
       "      <td>2023-11-01</td>\n",
       "      <td>4.0</td>\n",
       "      <td>SICK</td>\n",
       "      <td>1</td>\n",
       "      <td>0</td>\n",
       "      <td>2023-11</td>\n",
       "      <td>16</td>\n",
       "      <td>0.5</td>\n",
       "      <td>0.0</td>\n",
       "      <td>0.5</td>\n",
       "    </tr>\n",
       "    <tr>\n",
       "      <th>2</th>\n",
       "      <td>33T000055</td>\n",
       "      <td>Johanna</td>\n",
       "      <td>Soto</td>\n",
       "      <td>2023-11-20</td>\n",
       "      <td>2023-11-20</td>\n",
       "      <td>8.0</td>\n",
       "      <td>HOLIDAY</td>\n",
       "      <td>0</td>\n",
       "      <td>1</td>\n",
       "      <td>2023-11</td>\n",
       "      <td>16</td>\n",
       "      <td>1.0</td>\n",
       "      <td>1.0</td>\n",
       "      <td>0.0</td>\n",
       "    </tr>\n",
       "    <tr>\n",
       "      <th>3</th>\n",
       "      <td>33T000055</td>\n",
       "      <td>Johanna</td>\n",
       "      <td>Soto</td>\n",
       "      <td>2023-11-21</td>\n",
       "      <td>2023-11-21</td>\n",
       "      <td>8.0</td>\n",
       "      <td>HOLIDAY</td>\n",
       "      <td>0</td>\n",
       "      <td>1</td>\n",
       "      <td>2023-11</td>\n",
       "      <td>16</td>\n",
       "      <td>1.0</td>\n",
       "      <td>1.0</td>\n",
       "      <td>0.0</td>\n",
       "    </tr>\n",
       "    <tr>\n",
       "      <th>4</th>\n",
       "      <td>33T000055</td>\n",
       "      <td>Johanna</td>\n",
       "      <td>Soto</td>\n",
       "      <td>2023-11-22</td>\n",
       "      <td>2023-11-22</td>\n",
       "      <td>8.0</td>\n",
       "      <td>HOLIDAY</td>\n",
       "      <td>0</td>\n",
       "      <td>1</td>\n",
       "      <td>2023-11</td>\n",
       "      <td>16</td>\n",
       "      <td>1.0</td>\n",
       "      <td>1.0</td>\n",
       "      <td>0.0</td>\n",
       "    </tr>\n",
       "  </tbody>\n",
       "</table>\n",
       "</div>"
      ],
      "text/plain": [
       "  Position_ID First_Name Last_Name    In_time   Out_time  Hours Pay_Code  \\\n",
       "0   33T000055    Johanna      Soto 2023-10-09 2023-10-09    8.0  HOLIDAY   \n",
       "1   33T000055    Johanna      Soto 2023-11-01 2023-11-01    4.0     SICK   \n",
       "2   33T000055    Johanna      Soto 2023-11-20 2023-11-20    8.0  HOLIDAY   \n",
       "3   33T000055    Johanna      Soto 2023-11-21 2023-11-21    8.0  HOLIDAY   \n",
       "4   33T000055    Johanna      Soto 2023-11-22 2023-11-22    8.0  HOLIDAY   \n",
       "\n",
       "   Unexcused  Excused    Month  School_Days  Day_Type  Excused_Abs_Calc  \\\n",
       "0          0        1  2023-10           21       1.0               1.0   \n",
       "1          1        0  2023-11           16       0.5               0.0   \n",
       "2          0        1  2023-11           16       1.0               1.0   \n",
       "3          0        1  2023-11           16       1.0               1.0   \n",
       "4          0        1  2023-11           16       1.0               1.0   \n",
       "\n",
       "   Unexcused_Abs_Calc  \n",
       "0                 0.0  \n",
       "1                 0.5  \n",
       "2                 0.0  \n",
       "3                 0.0  \n",
       "4                 0.0  "
      ]
     },
     "execution_count": 64,
     "metadata": {},
     "output_type": "execute_result"
    }
   ],
   "source": [
    "Att_calc.head()"
   ]
  },
  {
   "cell_type": "code",
   "execution_count": 65,
   "id": "061455aa",
   "metadata": {},
   "outputs": [],
   "source": [
    "#Aggrgating Monthly Attendance Data\n",
    "Monthly_Att_Calc = Att_calc.groupby(['Position_ID', 'First_Name', 'Last_Name','Month','School_Days'])[['Excused_Abs_Calc','Unexcused_Abs_Calc']].sum().reset_index()"
   ]
  },
  {
   "cell_type": "code",
   "execution_count": 66,
   "id": "f4a38651",
   "metadata": {},
   "outputs": [],
   "source": [
    "#Creating 'Days Present','Possible Days', and Attendance Percentage columns\n",
    "Monthly_Att_Calc['Days_Present'] = Monthly_Att_Calc['School_Days'] - (Monthly_Att_Calc['Excused_Abs_Calc'] +  Monthly_Att_Calc['Unexcused_Abs_Calc'])\n",
    "Monthly_Att_Calc['Possible_Days'] = Monthly_Att_Calc['School_Days'] - Monthly_Att_Calc['Excused_Abs_Calc']\n",
    "Monthly_Att_Calc['Att_Percentage'] = round((Monthly_Att_Calc['Days_Present'].div(Monthly_Att_Calc['Possible_Days'])),2)"
   ]
  },
  {
   "cell_type": "code",
   "execution_count": 71,
   "id": "8aad9f9f",
   "metadata": {
    "scrolled": true
   },
   "outputs": [
    {
     "data": {
      "text/html": [
       "<div>\n",
       "<style scoped>\n",
       "    .dataframe tbody tr th:only-of-type {\n",
       "        vertical-align: middle;\n",
       "    }\n",
       "\n",
       "    .dataframe tbody tr th {\n",
       "        vertical-align: top;\n",
       "    }\n",
       "\n",
       "    .dataframe thead th {\n",
       "        text-align: right;\n",
       "    }\n",
       "</style>\n",
       "<table border=\"1\" class=\"dataframe\">\n",
       "  <thead>\n",
       "    <tr style=\"text-align: right;\">\n",
       "      <th></th>\n",
       "      <th>Position_ID</th>\n",
       "      <th>First_Name</th>\n",
       "      <th>Last_Name</th>\n",
       "      <th>Month</th>\n",
       "      <th>School_Days</th>\n",
       "      <th>Excused_Abs_Calc</th>\n",
       "      <th>Unexcused_Abs_Calc</th>\n",
       "      <th>Days_Present</th>\n",
       "      <th>Possible_Days</th>\n",
       "      <th>Att_Percentage</th>\n",
       "      <th>Campus</th>\n",
       "    </tr>\n",
       "  </thead>\n",
       "  <tbody>\n",
       "    <tr>\n",
       "      <th>0</th>\n",
       "      <td>33T000055</td>\n",
       "      <td>Johanna</td>\n",
       "      <td>Soto</td>\n",
       "      <td>2023-10</td>\n",
       "      <td>21</td>\n",
       "      <td>1.0</td>\n",
       "      <td>0.0</td>\n",
       "      <td>20.0</td>\n",
       "      <td>20.0</td>\n",
       "      <td>1.00</td>\n",
       "      <td>HO</td>\n",
       "    </tr>\n",
       "    <tr>\n",
       "      <th>1</th>\n",
       "      <td>33T000055</td>\n",
       "      <td>Johanna</td>\n",
       "      <td>Soto</td>\n",
       "      <td>2023-11</td>\n",
       "      <td>16</td>\n",
       "      <td>5.0</td>\n",
       "      <td>0.5</td>\n",
       "      <td>10.5</td>\n",
       "      <td>11.0</td>\n",
       "      <td>0.95</td>\n",
       "      <td>HO</td>\n",
       "    </tr>\n",
       "    <tr>\n",
       "      <th>2</th>\n",
       "      <td>33T000055</td>\n",
       "      <td>Johanna</td>\n",
       "      <td>Soto</td>\n",
       "      <td>2023-12</td>\n",
       "      <td>16</td>\n",
       "      <td>5.0</td>\n",
       "      <td>1.0</td>\n",
       "      <td>10.0</td>\n",
       "      <td>11.0</td>\n",
       "      <td>0.91</td>\n",
       "      <td>HO</td>\n",
       "    </tr>\n",
       "    <tr>\n",
       "      <th>3</th>\n",
       "      <td>33T000063</td>\n",
       "      <td>Sheria</td>\n",
       "      <td>McRae</td>\n",
       "      <td>2023-10</td>\n",
       "      <td>21</td>\n",
       "      <td>1.0</td>\n",
       "      <td>0.0</td>\n",
       "      <td>20.0</td>\n",
       "      <td>20.0</td>\n",
       "      <td>1.00</td>\n",
       "      <td>HO</td>\n",
       "    </tr>\n",
       "    <tr>\n",
       "      <th>4</th>\n",
       "      <td>33T000063</td>\n",
       "      <td>Sheria</td>\n",
       "      <td>McRae</td>\n",
       "      <td>2023-11</td>\n",
       "      <td>16</td>\n",
       "      <td>8.0</td>\n",
       "      <td>0.0</td>\n",
       "      <td>8.0</td>\n",
       "      <td>8.0</td>\n",
       "      <td>1.00</td>\n",
       "      <td>HO</td>\n",
       "    </tr>\n",
       "  </tbody>\n",
       "</table>\n",
       "</div>"
      ],
      "text/plain": [
       "  Position_ID First_Name Last_Name    Month  School_Days  Excused_Abs_Calc  \\\n",
       "0   33T000055    Johanna      Soto  2023-10           21               1.0   \n",
       "1   33T000055    Johanna      Soto  2023-11           16               5.0   \n",
       "2   33T000055    Johanna      Soto  2023-12           16               5.0   \n",
       "3   33T000063     Sheria     McRae  2023-10           21               1.0   \n",
       "4   33T000063     Sheria     McRae  2023-11           16               8.0   \n",
       "\n",
       "   Unexcused_Abs_Calc  Days_Present  Possible_Days  Att_Percentage Campus   \n",
       "0                 0.0          20.0           20.0            1.00      HO  \n",
       "1                 0.5          10.5           11.0            0.95      HO  \n",
       "2                 1.0          10.0           11.0            0.91      HO  \n",
       "3                 0.0          20.0           20.0            1.00      HO  \n",
       "4                 0.0           8.0            8.0            1.00      HO  "
      ]
     },
     "execution_count": 71,
     "metadata": {},
     "output_type": "execute_result"
    }
   ],
   "source": [
    "#Editing Department Names to Campus Names\n",
    "Monthly_Att_Calc.head()"
   ]
  },
  {
   "cell_type": "code",
   "execution_count": 80,
   "id": "ae82a718",
   "metadata": {
    "scrolled": false
   },
   "outputs": [
    {
     "data": {
      "text/html": [
       "<div>\n",
       "<style scoped>\n",
       "    .dataframe tbody tr th:only-of-type {\n",
       "        vertical-align: middle;\n",
       "    }\n",
       "\n",
       "    .dataframe tbody tr th {\n",
       "        vertical-align: top;\n",
       "    }\n",
       "\n",
       "    .dataframe thead th {\n",
       "        text-align: right;\n",
       "    }\n",
       "</style>\n",
       "<table border=\"1\" class=\"dataframe\">\n",
       "  <thead>\n",
       "    <tr style=\"text-align: right;\">\n",
       "      <th></th>\n",
       "      <th>Month</th>\n",
       "      <th>Att_Percentage</th>\n",
       "      <th>diff</th>\n",
       "      <th>pct_change</th>\n",
       "    </tr>\n",
       "  </thead>\n",
       "  <tbody>\n",
       "    <tr>\n",
       "      <th>0</th>\n",
       "      <td>2023-10</td>\n",
       "      <td>0.945338</td>\n",
       "      <td>0.00</td>\n",
       "      <td>0.00</td>\n",
       "    </tr>\n",
       "    <tr>\n",
       "      <th>1</th>\n",
       "      <td>2023-11</td>\n",
       "      <td>0.894088</td>\n",
       "      <td>-0.05</td>\n",
       "      <td>-0.05</td>\n",
       "    </tr>\n",
       "    <tr>\n",
       "      <th>2</th>\n",
       "      <td>2023-12</td>\n",
       "      <td>0.887801</td>\n",
       "      <td>-0.04</td>\n",
       "      <td>-0.04</td>\n",
       "    </tr>\n",
       "  </tbody>\n",
       "</table>\n",
       "</div>"
      ],
      "text/plain": [
       "     Month  Att_Percentage  diff  pct_change\n",
       "0  2023-10        0.945338  0.00        0.00\n",
       "1  2023-11        0.894088 -0.05       -0.05\n",
       "2  2023-12        0.887801 -0.04       -0.04"
      ]
     },
     "execution_count": 80,
     "metadata": {},
     "output_type": "execute_result"
    }
   ],
   "source": [
    "#Monthly Attendance Metrics\n",
    "Monthly_Att_Avg = Monthly_Att_Calc.groupby('Month')['Att_Percentage'].mean().reset_index().sort_values(by= 'Month')\n",
    "\n",
    "Monthly_Att_Avg['diff'] = Monthly_Att_Calc['Att_Percentage'].diff()\n",
    "Monthly_Att_Avg['diff'] = Monthly_Att_Avg['diff'].fillna(0)\n",
    "Monthly_Att_Avg['pct_change'] = round(Monthly_Att_Calc['Att_Percentage'].pct_change(),2)\n",
    "Monthly_Att_Avg['pct_change'] = Monthly_Att_Avg['pct_change'].fillna(0)\n",
    "\n",
    "Monthly_Att_Avg.head()"
   ]
  },
  {
   "cell_type": "code",
   "execution_count": 88,
   "id": "9026dfc5",
   "metadata": {},
   "outputs": [
    {
     "data": {
      "image/png": "[encoded data removed]",
      "text/plain": [
       "<Figure size 640x480 with 1 Axes>"
      ]
     },
     "metadata": {},
     "output_type": "display_data"
    }
   ],
   "source": [
    "#Visualizing Monthly Attendance Metrics\n",
    "plt.plot(Monthly_Att_Avg['Month'], Monthly_Att_Avg['Att_Percentage'], marker = 'o')\n",
    "\n",
    "plt.xlabel('Year-Month')\n",
    "plt.ylabel('Average Monthly Attendance Percentage')\n",
    "plt.title('Monthly Average Attendance')\n",
    "plt.show()"
   ]
  },
  {
   "cell_type": "code",
   "execution_count": 89,
   "id": "4785c3e7",
   "metadata": {},
   "outputs": [],
   "source": [
    "Monthly_Att_Calc.to_csv('Q2_Monthly_Att_Calc.csv', index = False, header = True)"
   ]
  }
 ],
 "metadata": {
  "kernelspec": {
   "display_name": "Python 3 (ipykernel)",
   "language": "python",
   "name": "python3"
  },
  "language_info": {
   "codemirror_mode": {
    "name": "ipython",
    "version": 3
   },
   "file_extension": ".py",
   "mimetype": "text/x-python",
   "name": "python",
   "nbconvert_exporter": "python",
   "pygments_lexer": "ipython3",
   "version": "3.10.9"
  }
 },
 "nbformat": 4,
 "nbformat_minor": 5
}
