{
 "cells": [
  {
   "cell_type": "markdown",
   "id": "6e5040e6",
   "metadata": {},
   "source": [
    "## Attendance Data Cleaning\n",
    "\n",
    "Using python to clean and analyze quarterly employee attendance data exported from ADP\n",
    "\n",
    "### Overview\n",
    "\n",
    "There are two different types of employees, 12 MTH and 11 MTH employees, with tow different attendance calculations:\n",
    "\n",
    "- 11 MTH Employee Attendance Calculations\n",
    "    - 'ABSENT','SICK','UNPAID TIME OFF','PERSONAL','LONGEVITY DAYS','VACATION' - **Unexcused Absences**\n",
    "    - 'COVID SICK','JURY','PROFESSIONAL DEVELOPMENT','RELIGIOUS OBSERVATION' - **Excused Absences**\n",
    "    \n",
    "    \n",
    "- 12 MTH Employee Attendance Calculations\n",
    "    - 'ABSENT','SICK','UNPAID TIME OFF','PERSONAL','LONGEVITY DAYS' - **Unexcused Absences**\n",
    "    - 'COVID SICK','JURY','PROFESSIONAL DEVELOPMENT','RELIGIOUS OBSERVATION','VACATION' - **Excused Absences**\n",
    "        - VACATION counts as an excused absence for 12 MTH due to having to input vacation time for HOLIDAYS."
   ]
  },
  {
   "cell_type": "code",
   "execution_count": 1,
   "id": "0f4a106d",
   "metadata": {},
   "outputs": [],
   "source": [
    "#Importing Packages\n",
    "import pandas as pd\n",
    "import datetime as dt\n",
    "import string as str\n",
    "import matplotlib.pyplot as plt"
   ]
  },
  {
   "cell_type": "code",
   "execution_count": 2,
   "id": "99dd18c7",
   "metadata": {
    "scrolled": true
   },
   "outputs": [],
   "source": [
    "df = pd.read_csv(r\"/Users/scipio/Downloads/Staff_Att_09.24-02.24.csv\", parse_dates = ['In_time','Out_time'])"
   ]
  },
  {
   "cell_type": "code",
   "execution_count": 3,
   "id": "3c218b91",
   "metadata": {},
   "outputs": [
    {
     "name": "stdout",
     "output_type": "stream",
     "text": [
      "<class 'pandas.core.frame.DataFrame'>\n",
      "RangeIndex: 19736 entries, 0 to 19735\n",
      "Data columns (total 15 columns):\n",
      " #   Column             Non-Null Count  Dtype         \n",
      "---  ------             --------------  -----         \n",
      " 0   Company_Code       19736 non-null  object        \n",
      " 1   Last_Name          19736 non-null  object        \n",
      " 2   First_Name         19736 non-null  object        \n",
      " 3   Position_ID        19736 non-null  object        \n",
      " 4   Employee_ID        19736 non-null  int64         \n",
      " 5   Worked_Department  19736 non-null  int64         \n",
      " 6   State              19736 non-null  object        \n",
      " 7   In_time            19736 non-null  datetime64[ns]\n",
      " 8   Out_time           17701 non-null  datetime64[ns]\n",
      " 9   Out_Punch_Type     72 non-null     object        \n",
      " 10  Hours              19736 non-null  float64       \n",
      " 11  Campus             19736 non-null  object        \n",
      " 12  Contract_Type      19736 non-null  object        \n",
      " 13  Pay_Code           5452 non-null   object        \n",
      " 14  Notes              702 non-null    object        \n",
      "dtypes: datetime64[ns](2), float64(1), int64(2), object(10)\n",
      "memory usage: 2.3+ MB\n"
     ]
    }
   ],
   "source": [
    "df.info()"
   ]
  },
  {
   "cell_type": "code",
   "execution_count": 4,
   "id": "95178da8",
   "metadata": {},
   "outputs": [
    {
     "data": {
      "text/plain": [
       "(19736, 15)"
      ]
     },
     "execution_count": 4,
     "metadata": {},
     "output_type": "execute_result"
    }
   ],
   "source": [
    "df.shape"
   ]
  },
  {
   "cell_type": "code",
   "execution_count": 5,
   "id": "7c882055",
   "metadata": {},
   "outputs": [
    {
     "data": {
      "text/plain": [
       "min   2023-08-16\n",
       "max   2024-03-01\n",
       "Name: In_time, dtype: datetime64[ns]"
      ]
     },
     "execution_count": 5,
     "metadata": {},
     "output_type": "execute_result"
    }
   ],
   "source": [
    "#Date Range\n",
    "df['In_time'].agg(['min','max'])"
   ]
  },
  {
   "cell_type": "code",
   "execution_count": 6,
   "id": "79c43104",
   "metadata": {},
   "outputs": [],
   "source": [
    "#Filtering df based on REGSAL, REGSAL indicative of pay day\n",
    "df = df[df['Pay_Code']!= 'REGSAL']"
   ]
  },
  {
   "cell_type": "code",
   "execution_count": 7,
   "id": "5c2142d4",
   "metadata": {},
   "outputs": [
    {
     "data": {
      "text/plain": [
       "array(['11 MTH', '12 MTH'], dtype=object)"
      ]
     },
     "execution_count": 7,
     "metadata": {},
     "output_type": "execute_result"
    }
   ],
   "source": [
    "df['Contract_Type'].unique() # < - unique contract types"
   ]
  },
  {
   "cell_type": "code",
   "execution_count": 8,
   "id": "c5a0ce4c",
   "metadata": {},
   "outputs": [],
   "source": [
    "#Adding month column\n",
    "df['Month'] = df['In_time'].dt.strftime('%Y-%m')"
   ]
  },
  {
   "cell_type": "code",
   "execution_count": 9,
   "id": "0fb79f88",
   "metadata": {},
   "outputs": [],
   "source": [
    "#Adding Day Type\n",
    "def day_type(x):\n",
    "    if x >=5: # <- greater than or equal to a full day\n",
    "        return 1\n",
    "    elif x <= 4:\n",
    "        return 0.5\n",
    "    elif x == 0: # <- Will\n",
    "        return 0\n",
    "    \n",
    "df['Day_Type'] = df['Hours'].apply(lambda x:day_type(x))"
   ]
  },
  {
   "cell_type": "code",
   "execution_count": 10,
   "id": "63998b81",
   "metadata": {},
   "outputs": [],
   "source": [
    "#Excused Absences\n",
    "def Excused (row):\n",
    "    if row['Contract_Type'] == '11 MTH': # <- conditions for 11 MTH Employees\n",
    "        if row['Pay_Code'] in (['COVID SICK','JURY','PROFESSIONAL DEVELOPMENT','RELIGIOUS OBSERVATION']):\n",
    "            return 1\n",
    "        else:\n",
    "            return 0\n",
    "    elif row['Contract_Type'] == '12 MTH': # <- conditions for 12 MTH Employees\n",
    "        if row['Pay_Code'] in (['COVID SICK','JURY','PROFESSIONAL DEVELOPMENT','RELIGIOUS OBSERVATION','VACATION']):\n",
    "            return 1\n",
    "        else:\n",
    "            return 0\n",
    "\n",
    "df['Excused'] = df.apply(Excused, axis = 1)"
   ]
  },
  {
   "cell_type": "code",
   "execution_count": 11,
   "id": "22dd5000",
   "metadata": {},
   "outputs": [],
   "source": [
    "#Unexcused Absences\n",
    "def Unexcused (row):\n",
    "    if row['Contract_Type'] == '11 MTH': # <- conditions for 11 MTH Employees\n",
    "        if row['Pay_Code'] in (['ABSENT','SICK','UNPAID TIME OFF','PERSONAL','LONGEVITY DAYS','VACATION']):\n",
    "            return 1\n",
    "        else:\n",
    "            return 0\n",
    "    elif row['Contract_Type'] == '12 MTH': # <- conditions for 12 MTH Employees\n",
    "        if row['Pay_Code'] in (['ABSENT','SICK','UNPAID TIME OFF','PERSONAL','LONGEVITY DAYS']):\n",
    "            return 1\n",
    "        else:\n",
    "            return 0\n",
    "\n",
    "df['Unexcused'] = df.apply(Unexcused, axis = 1)"
   ]
  },
  {
   "cell_type": "code",
   "execution_count": 12,
   "id": "3a386938",
   "metadata": {},
   "outputs": [],
   "source": [
    "#School Days\n",
    "def School_Days(x):\n",
    "    if x == '2023-09':\n",
    "        return 19\n",
    "    elif x == '2023-10':\n",
    "        return 21\n",
    "    elif x == '2023-11':\n",
    "        return 16\n",
    "    elif x == '2023-12':\n",
    "        return 16\n",
    "    elif x == '2024-01':\n",
    "        return 19\n",
    "    elif x == '2024-02':\n",
    "        return 16\n",
    "    \n",
    "df['School_Days'] = df['Month'].apply(lambda x:School_Days(x))    "
   ]
  },
  {
   "cell_type": "code",
   "execution_count": 13,
   "id": "330f945d",
   "metadata": {},
   "outputs": [],
   "source": [
    "#Service Days\n",
    "def Service_Days(x):\n",
    "    if x == '2023-09':\n",
    "        return 20\n",
    "    elif x == '2023-10':\n",
    "        return 21\n",
    "    elif x == '2023-11':\n",
    "        return 17\n",
    "    elif x == '2023-12':\n",
    "        return 16\n",
    "    elif x == '2024-01':\n",
    "        return 19\n",
    "    elif x == '2024-02':\n",
    "        return 18\n",
    "    \n",
    "df['Service_Days'] = df['Month'].apply(lambda x:School_Days(x))    "
   ]
  },
  {
   "cell_type": "code",
   "execution_count": 14,
   "id": "7f88ec60",
   "metadata": {},
   "outputs": [],
   "source": [
    "#Excused and Unexcused attendance calculations\n",
    "df['Excused_Calc'] = df['Excused'] * df['Day_Type']\n",
    "df['Unexcused_Calc'] = df['Unexcused'] * df['Day_Type']"
   ]
  },
  {
   "cell_type": "code",
   "execution_count": 15,
   "id": "c65c55e8",
   "metadata": {},
   "outputs": [],
   "source": [
    "#Aggregating Excused and Unexcused attendance calculations\n",
    "df['Excused_Abs_Agg'] = df.groupby(['First_Name','Last_Name','Month','School_Days','Campus','Contract_Type','Position_ID'])['Excused_Calc'].transform('sum')\n",
    "df['Unexcused_Abs_Agg'] = df.groupby(['First_Name','Last_Name','Month','School_Days','Campus','Contract_Type','Position_ID'])['Unexcused_Calc'].transform('sum')"
   ]
  },
  {
   "cell_type": "code",
   "execution_count": 16,
   "id": "98d827ca",
   "metadata": {},
   "outputs": [],
   "source": [
    "#Creating new df with relevant columns \n",
    "Att_df = df[['Position_ID','First_Name','Last_Name','Campus','Contract_Type','Month','Excused_Abs_Agg','Unexcused_Abs_Agg','School_Days','Service_Days' ]]"
   ]
  },
  {
   "cell_type": "code",
   "execution_count": 18,
   "id": "f47ae982",
   "metadata": {},
   "outputs": [],
   "source": [
    "#Filtering out duplicates\n",
    "Att_df = Att_df[~Att_df.duplicated()]"
   ]
  },
  {
   "cell_type": "code",
   "execution_count": 29,
   "id": "4cfac9b6",
   "metadata": {},
   "outputs": [],
   "source": [
    "#Creating columns to calculate attendance\n",
    "Att_df['Days_Present'] = Att_df['School_Days'] - (Att_df['Excused_Abs_Agg']+ Att_df['Unexcused_Abs_Agg'])\n",
    "Att_df['Possible_Days'] = Att_df['School_Days'] - Att_df['Excused_Abs_Agg']\n",
    "Att_df['Att_Pct'] = round(Att_df['Days_Present']/Att_df['Possible_Days'],2)\n",
    "Att_df['School_Days_Missed'] = Att_df['School_Days'] - Att_df['Days_Present']\n",
    "Att_df['Total_Days_Missed'] = Att_df['Service_Days'] - Att_df['Days_Present']"
   ]
  },
  {
   "cell_type": "code",
   "execution_count": 31,
   "id": "05925c8f",
   "metadata": {},
   "outputs": [],
   "source": [
    "result = Att_df[['Position_ID','First_Name','Last_Name','Campus','Contract_Type','Month','Days_Present','Possible_Days','School_Days','Service_Days','Att_Pct','Contract_Type']]"
   ]
  },
  {
   "cell_type": "code",
   "execution_count": 53,
   "id": "0ff69597",
   "metadata": {},
   "outputs": [
    {
     "data": {
      "text/html": [
       "<div>\n",
       "<style scoped>\n",
       "    .dataframe tbody tr th:only-of-type {\n",
       "        vertical-align: middle;\n",
       "    }\n",
       "\n",
       "    .dataframe tbody tr th {\n",
       "        vertical-align: top;\n",
       "    }\n",
       "\n",
       "    .dataframe thead th {\n",
       "        text-align: right;\n",
       "    }\n",
       "</style>\n",
       "<table border=\"1\" class=\"dataframe\">\n",
       "  <thead>\n",
       "    <tr style=\"text-align: right;\">\n",
       "      <th></th>\n",
       "      <th>Position_ID</th>\n",
       "      <th>First_Name</th>\n",
       "      <th>Last_Name</th>\n",
       "      <th>Campus</th>\n",
       "      <th>Contract_Type</th>\n",
       "      <th>Month</th>\n",
       "      <th>Days_Present</th>\n",
       "      <th>Possible_Days</th>\n",
       "      <th>School_Days</th>\n",
       "      <th>Service_Days</th>\n",
       "      <th>Att_Pct</th>\n",
       "      <th>Contract_Type</th>\n",
       "    </tr>\n",
       "  </thead>\n",
       "  <tbody>\n",
       "    <tr>\n",
       "      <th>0</th>\n",
       "      <td>33T000345</td>\n",
       "      <td>Kathleen</td>\n",
       "      <td>Griffo</td>\n",
       "      <td>PS</td>\n",
       "      <td>11 MTH</td>\n",
       "      <td>2023-11</td>\n",
       "      <td>14.5</td>\n",
       "      <td>15.0</td>\n",
       "      <td>16.0</td>\n",
       "      <td>16.0</td>\n",
       "      <td>0.97</td>\n",
       "      <td>11 MTH</td>\n",
       "    </tr>\n",
       "    <tr>\n",
       "      <th>1</th>\n",
       "      <td>33T000345</td>\n",
       "      <td>Kathleen</td>\n",
       "      <td>Griffo</td>\n",
       "      <td>PS</td>\n",
       "      <td>11 MTH</td>\n",
       "      <td>2023-10</td>\n",
       "      <td>20.5</td>\n",
       "      <td>21.0</td>\n",
       "      <td>21.0</td>\n",
       "      <td>21.0</td>\n",
       "      <td>0.98</td>\n",
       "      <td>11 MTH</td>\n",
       "    </tr>\n",
       "    <tr>\n",
       "      <th>2</th>\n",
       "      <td>33T000396</td>\n",
       "      <td>Chonda</td>\n",
       "      <td>Page</td>\n",
       "      <td>PS</td>\n",
       "      <td>11 MTH</td>\n",
       "      <td>2023-12</td>\n",
       "      <td>12.5</td>\n",
       "      <td>16.0</td>\n",
       "      <td>16.0</td>\n",
       "      <td>16.0</td>\n",
       "      <td>0.78</td>\n",
       "      <td>11 MTH</td>\n",
       "    </tr>\n",
       "    <tr>\n",
       "      <th>6</th>\n",
       "      <td>33T000396</td>\n",
       "      <td>Chonda</td>\n",
       "      <td>Page</td>\n",
       "      <td>PS</td>\n",
       "      <td>11 MTH</td>\n",
       "      <td>2024-01</td>\n",
       "      <td>0.5</td>\n",
       "      <td>19.0</td>\n",
       "      <td>19.0</td>\n",
       "      <td>19.0</td>\n",
       "      <td>0.03</td>\n",
       "      <td>11 MTH</td>\n",
       "    </tr>\n",
       "    <tr>\n",
       "      <th>7</th>\n",
       "      <td>33T000396</td>\n",
       "      <td>Chonda</td>\n",
       "      <td>Page</td>\n",
       "      <td>PS</td>\n",
       "      <td>11 MTH</td>\n",
       "      <td>2024-02</td>\n",
       "      <td>13.0</td>\n",
       "      <td>16.0</td>\n",
       "      <td>16.0</td>\n",
       "      <td>16.0</td>\n",
       "      <td>0.81</td>\n",
       "      <td>11 MTH</td>\n",
       "    </tr>\n",
       "  </tbody>\n",
       "</table>\n",
       "</div>"
      ],
      "text/plain": [
       "  Position_ID First_Name Last_Name Campus Contract_Type    Month  \\\n",
       "0   33T000345   Kathleen    Griffo     PS        11 MTH  2023-11   \n",
       "1   33T000345   Kathleen    Griffo     PS        11 MTH  2023-10   \n",
       "2   33T000396     Chonda      Page     PS        11 MTH  2023-12   \n",
       "6   33T000396     Chonda      Page     PS        11 MTH  2024-01   \n",
       "7   33T000396     Chonda      Page     PS        11 MTH  2024-02   \n",
       "\n",
       "   Days_Present  Possible_Days  School_Days  Service_Days  Att_Pct  \\\n",
       "0          14.5           15.0         16.0          16.0     0.97   \n",
       "1          20.5           21.0         21.0          21.0     0.98   \n",
       "2          12.5           16.0         16.0          16.0     0.78   \n",
       "6           0.5           19.0         19.0          19.0     0.03   \n",
       "7          13.0           16.0         16.0          16.0     0.81   \n",
       "\n",
       "  Contract_Type  \n",
       "0        11 MTH  \n",
       "1        11 MTH  \n",
       "2        11 MTH  \n",
       "6        11 MTH  \n",
       "7        11 MTH  "
      ]
     },
     "execution_count": 53,
     "metadata": {},
     "output_type": "execute_result"
    }
   ],
   "source": [
    "result.head()"
   ]
  },
  {
   "cell_type": "code",
   "execution_count": 52,
   "id": "5f5fb43b",
   "metadata": {},
   "outputs": [],
   "source": [
    "#Monthly Attendance Averages\n",
    "month_att = round(result.groupby('Month')['Att_Pct'].mean().reset_index(),3)\n",
    "month_att = month_att.dropna()"
   ]
  },
  {
   "cell_type": "code",
   "execution_count": 62,
   "id": "6bc1f769",
   "metadata": {},
   "outputs": [],
   "source": [
    "#Overall Campus Attendance\n",
    "Campus_Att = round(result.groupby('Campus')['Att_Pct'].mean().reset_index(),3)"
   ]
  },
  {
   "cell_type": "code",
   "execution_count": 69,
   "id": "293fa7bf",
   "metadata": {},
   "outputs": [
    {
     "data": {
      "image/png": "[encoded data removed]",
      "text/plain": [
       "<Figure size 1000x800 with 2 Axes>"
      ]
     },
     "metadata": {},
     "output_type": "display_data"
    }
   ],
   "source": [
    "fig, ax = plt.subplots(nrows = 2 , ncols = 1, figsize = (10,8)) # <- creating subplots\n",
    "\n",
    "ax[0].plot('Month', 'Att_Pct', data = month_att, marker = 'o', linestyle = '--') # <- lineplot\n",
    "\n",
    "ax[0].set_title('Monthly Attendance Average')\n",
    "ax[0].set_ylabel('%')\n",
    "\n",
    "for index, value in enumerate(month_att['Att_Pct']):\n",
    "    ax[0].text(index,value,float(value))\n",
    "\n",
    "#Labels\n",
    "ax[1].barh('Campus', 'Att_Pct', data = Campus_Att) # <- horizontal bar chart\n",
    "ax[1].set_title('Average Campus Attendance')\n",
    "ax[1].set_ylabel('Campus')\n",
    "ax[1].set_xlabel('%')\n",
    "\n",
    "\n",
    "for index,value in enumerate(Campus_Att['Att_Pct']):\n",
    "    ax[1].text(value,index, float(value))"
   ]
  },
  {
   "cell_type": "code",
   "execution_count": null,
   "id": "f0c0953d",
   "metadata": {},
   "outputs": [],
   "source": []
  }
 ],
 "metadata": {
  "kernelspec": {
   "display_name": "Python 3 (ipykernel)",
   "language": "python",
   "name": "python3"
  },
  "language_info": {
   "codemirror_mode": {
    "name": "ipython",
    "version": 3
   },
   "file_extension": ".py",
   "mimetype": "text/x-python",
   "name": "python",
   "nbconvert_exporter": "python",
   "pygments_lexer": "ipython3",
   "version": "3.10.9"
  }
 },
 "nbformat": 4,
 "nbformat_minor": 5
}
